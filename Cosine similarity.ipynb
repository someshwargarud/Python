{
 "cells": [
  {
   "cell_type": "markdown",
   "id": "d5fae8b7",
   "metadata": {},
   "source": [
    "# cosine similarity"
   ]
  },
  {
   "cell_type": "code",
   "execution_count": 1,
   "id": "42a77c47",
   "metadata": {},
   "outputs": [],
   "source": [
    "import numpy as np"
   ]
  },
  {
   "cell_type": "code",
   "execution_count": 2,
   "id": "88f65441",
   "metadata": {},
   "outputs": [],
   "source": [
    "v1 = np.array([1,2,3])"
   ]
  },
  {
   "cell_type": "code",
   "execution_count": 3,
   "id": "d8567608",
   "metadata": {},
   "outputs": [],
   "source": [
    "v2 = np.array([4,5,6])"
   ]
  },
  {
   "cell_type": "code",
   "execution_count": 4,
   "id": "c7278268",
   "metadata": {},
   "outputs": [],
   "source": [
    "dot_product = np.dot(v1,v2)"
   ]
  },
  {
   "cell_type": "code",
   "execution_count": 5,
   "id": "d787922d",
   "metadata": {},
   "outputs": [
    {
     "data": {
      "text/plain": [
       "32"
      ]
     },
     "execution_count": 5,
     "metadata": {},
     "output_type": "execute_result"
    }
   ],
   "source": [
    "dot_product"
   ]
  },
  {
   "cell_type": "code",
   "execution_count": 6,
   "id": "3a9a8a08",
   "metadata": {},
   "outputs": [
    {
     "data": {
      "text/plain": [
       "3.7416573867739413"
      ]
     },
     "execution_count": 6,
     "metadata": {},
     "output_type": "execute_result"
    }
   ],
   "source": [
    "np.linalg.norm(v1)"
   ]
  },
  {
   "cell_type": "code",
   "execution_count": 7,
   "id": "33e78658",
   "metadata": {},
   "outputs": [
    {
     "data": {
      "text/plain": [
       "8.774964387392123"
      ]
     },
     "execution_count": 7,
     "metadata": {},
     "output_type": "execute_result"
    }
   ],
   "source": [
    "np.linalg.norm(v2)"
   ]
  },
  {
   "cell_type": "code",
   "execution_count": 8,
   "id": "3cfad921",
   "metadata": {},
   "outputs": [],
   "source": [
    "magnitude = np.linalg.norm(v1) * np.linalg.norm(v2)"
   ]
  },
  {
   "cell_type": "code",
   "execution_count": 9,
   "id": "fa32afd9",
   "metadata": {},
   "outputs": [
    {
     "data": {
      "text/plain": [
       "32.83291031876401"
      ]
     },
     "execution_count": 9,
     "metadata": {},
     "output_type": "execute_result"
    }
   ],
   "source": [
    "magnitude"
   ]
  },
  {
   "cell_type": "code",
   "execution_count": 10,
   "id": "63ea68fa",
   "metadata": {},
   "outputs": [
    {
     "data": {
      "text/plain": [
       "0.9746318461970762"
      ]
     },
     "execution_count": 10,
     "metadata": {},
     "output_type": "execute_result"
    }
   ],
   "source": [
    "dot_product/magnitude"
   ]
  },
  {
   "cell_type": "code",
   "execution_count": 11,
   "id": "ab612ec4",
   "metadata": {},
   "outputs": [
    {
     "data": {
      "text/plain": [
       "0.9746318461970761"
      ]
     },
     "execution_count": 11,
     "metadata": {},
     "output_type": "execute_result"
    }
   ],
   "source": [
    "from scipy import spatial\n",
    "result = 1 - spatial.distance.cosine(v1,v2)\n",
    "result"
   ]
  },
  {
   "cell_type": "code",
   "execution_count": null,
   "id": "0564e9d7",
   "metadata": {},
   "outputs": [],
   "source": []
  },
  {
   "cell_type": "code",
   "execution_count": null,
   "id": "91c79935",
   "metadata": {},
   "outputs": [],
   "source": [
    "pip install openai"
   ]
  },
  {
   "cell_type": "markdown",
   "id": "83a0a093",
   "metadata": {},
   "source": [
    "#### Pass the 'chatgpt-3-turbo' api_key"
   ]
  },
  {
   "cell_type": "code",
   "execution_count": null,
   "id": "0824ab24",
   "metadata": {},
   "outputs": [],
   "source": [
    "import openai\n",
    "import pandas as pd \n",
    "import numpy as np\n",
    "from getpass import getpass\n",
    "openai.api_key = getpass()"
   ]
  },
  {
   "cell_type": "markdown",
   "id": "464e5aac",
   "metadata": {},
   "source": [
    "#### Read data file containing words "
   ]
  },
  {
   "cell_type": "code",
   "execution_count": null,
   "id": "e8bbff8a",
   "metadata": {},
   "outputs": [],
   "source": [
    "df = pd.read_csv('C:\\\\Users\\\\Hxtreme\\\\Desktop\\\\som.txt')"
   ]
  },
  {
   "cell_type": "code",
   "execution_count": null,
   "id": "e62f05ae",
   "metadata": {},
   "outputs": [],
   "source": [
    "print(df)"
   ]
  },
  {
   "cell_type": "markdown",
   "id": "0332843f",
   "metadata": {},
   "source": [
    "#### calculate word embeddings"
   ]
  },
  {
   "cell_type": "code",
   "execution_count": null,
   "id": "7d22cf04",
   "metadata": {},
   "outputs": [],
   "source": [
    "from openai.embeddings_utils import get_embedding"
   ]
  },
  {
   "cell_type": "code",
   "execution_count": null,
   "id": "18af7f20",
   "metadata": {},
   "outputs": [],
   "source": [
    "df['embedding'] = df['test'].apply(lambda x: get_embedding(x , engine = 'gpt-3.5-turbo'))"
   ]
  },
  {
   "cell_type": "code",
   "execution_count": null,
   "id": "ab0f878b",
   "metadata": {},
   "outputs": [],
   "source": [
    "df.to_csv(\"word_embedding.csv\")"
   ]
  },
  {
   "cell_type": "markdown",
   "id": "2a2b958f",
   "metadata": {},
   "source": [
    "### Semantic Search"
   ]
  },
  {
   "cell_type": "code",
   "execution_count": null,
   "id": "40063ca6",
   "metadata": {},
   "outputs": [],
   "source": [
    "df = pd.read_csv(word_embedding.csv)"
   ]
  },
  {
   "cell_type": "code",
   "execution_count": null,
   "id": "3030dd4b",
   "metadata": {},
   "outputs": [],
   "source": [
    "df['embedding'] = df['embedding'].apply(eval).apply(np.array)"
   ]
  },
  {
   "cell_type": "code",
   "execution_count": null,
   "id": "618c5ab4",
   "metadata": {},
   "outputs": [],
   "source": [
    "df"
   ]
  },
  {
   "cell_type": "code",
   "execution_count": null,
   "id": "4fcbef37",
   "metadata": {},
   "outputs": [],
   "source": [
    "search_term = input(\"Enter the search term:\")"
   ]
  },
  {
   "cell_type": "code",
   "execution_count": null,
   "id": "e890eaf8",
   "metadata": {},
   "outputs": [],
   "source": [
    "search_term_vectot = get_embedding(search_term,engine = 'gpt-3.5-turbo' )"
   ]
  },
  {
   "cell_type": "code",
   "execution_count": null,
   "id": "73565c78",
   "metadata": {},
   "outputs": [],
   "source": [
    "search_term_vector"
   ]
  },
  {
   "cell_type": "code",
   "execution_count": null,
   "id": "e2301fe0",
   "metadata": {},
   "outputs": [],
   "source": [
    "from openai.embeddings_utils import cosine_similarity"
   ]
  },
  {
   "cell_type": "code",
   "execution_count": null,
   "id": "548836df",
   "metadata": {},
   "outputs": [],
   "source": [
    "df['similsrities'] = df['embedding'].apply(lambda x: cosine_similarity(x,search_term_vector))"
   ]
  }
 ],
 "metadata": {
  "kernelspec": {
   "display_name": "Python 3 (ipykernel)",
   "language": "python",
   "name": "python3"
  },
  "language_info": {
   "codemirror_mode": {
    "name": "ipython",
    "version": 3
   },
   "file_extension": ".py",
   "mimetype": "text/x-python",
   "name": "python",
   "nbconvert_exporter": "python",
   "pygments_lexer": "ipython3",
   "version": "3.10.9"
  }
 },
 "nbformat": 4,
 "nbformat_minor": 5
}
